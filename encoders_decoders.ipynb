{
 "cells": [
  {
   "cell_type": "code",
   "execution_count": 46,
   "id": "ambient-pharmaceutical",
   "metadata": {},
   "outputs": [],
   "source": [
    "from tensorflow.keras.models import Model\n",
    "from tensorflow.keras.layers import Input, LSTM, Dense\n",
    "import numpy as np\n",
    "batch_size = 64\n",
    "epochs = 100\n",
    "latent_dim = 256\n",
    "num_samples = 10000 # no of samples to train on"
   ]
  },
  {
   "cell_type": "code",
   "execution_count": 2,
   "id": "historical-madness",
   "metadata": {},
   "outputs": [],
   "source": [
    "with open('fra.txt', 'r', encoding='utf-8') as f:\n",
    "    lines = f.read().split('\\n')"
   ]
  },
  {
   "cell_type": "code",
   "execution_count": 3,
   "id": "forced-taste",
   "metadata": {},
   "outputs": [
    {
     "data": {
      "text/plain": [
       "list"
      ]
     },
     "execution_count": 3,
     "metadata": {},
     "output_type": "execute_result"
    }
   ],
   "source": [
    "type(lines)"
   ]
  },
  {
   "cell_type": "code",
   "execution_count": 4,
   "id": "elect-rhythm",
   "metadata": {},
   "outputs": [],
   "source": [
    "# the above str contains \\n at the end of line we are splitting the above string on \\n it becomes list"
   ]
  },
  {
   "cell_type": "code",
   "execution_count": 5,
   "id": "utility-proposition",
   "metadata": {},
   "outputs": [
    {
     "data": {
      "text/plain": [
       "['Go.\\tVa !\\tCC-BY 2.0 (France) Attribution: tatoeba.org #2877272 (CM) & #1158250 (Wittydev)',\n",
       " 'Go.\\tMarche.\\tCC-BY 2.0 (France) Attribution: tatoeba.org #2877272 (CM) & #8090732 (Micsmithel)']"
      ]
     },
     "execution_count": 5,
     "metadata": {},
     "output_type": "execute_result"
    }
   ],
   "source": [
    "lines[0:2]"
   ]
  },
  {
   "cell_type": "code",
   "execution_count": 6,
   "id": "monthly-superintendent",
   "metadata": {},
   "outputs": [
    {
     "data": {
      "text/plain": [
       "10000"
      ]
     },
     "execution_count": 6,
     "metadata": {},
     "output_type": "execute_result"
    }
   ],
   "source": [
    "len(lines[:min(num_samples, len(lines)-1)])"
   ]
  },
  {
   "cell_type": "code",
   "execution_count": 7,
   "id": "quiet-senator",
   "metadata": {},
   "outputs": [],
   "source": [
    "input_texts = []\n",
    "target_texts = []\n",
    "# input_characters contain all the input_characters of eng lang\n",
    "# target_characters contain all the target_characters of fre lang\n",
    "input_characters = set()\n",
    "target_characters = set()\n",
    "\n",
    "# from above we can see that there are 3tabs(\\t) we will split at \\t\n",
    "# after splitting first is english language next is french language next is unknown\n",
    "for line in lines[:min(num_samples, len(lines)-1)]:\n",
    "    # now line is str type\n",
    "    # we will split at \\t so we get each line as a list of 3 values\n",
    "    # first one is input string of eng lan\n",
    "    # second one is french string of fre lan\n",
    "    # third is unknown\n",
    "    input_text, target_text, _ = line.split('\\t')\n",
    "    \n",
    "    # for eg here input_text = 'Go.' and target_text = 'Va !' for first iteration\n",
    "    \n",
    "    # for target_text we add \\t as the start and \\n as end \n",
    "    target_text = '\\t' + target_text + '\\n'\n",
    "    # now target_text = '\\tVa !\\n'\n",
    "    input_texts.append(input_text)\n",
    "    target_texts.append(target_text)\n",
    "    \n",
    "    # this is for adding all characters of eng lang\n",
    "    for char in input_text:\n",
    "        if char not in input_characters:\n",
    "            input_characters.add(char)\n",
    "    # this is for adding all characters of fre lang\n",
    "    for char in target_text:\n",
    "        if char not in target_characters:\n",
    "            target_characters.add(char)\n",
    "    "
   ]
  },
  {
   "cell_type": "code",
   "execution_count": 8,
   "id": "adjacent-venice",
   "metadata": {},
   "outputs": [
    {
     "data": {
      "text/plain": [
       "['Go.', 'Go.', 'Go.', 'Hi.', 'Hi.']"
      ]
     },
     "execution_count": 8,
     "metadata": {},
     "output_type": "execute_result"
    }
   ],
   "source": [
    "input_texts[:5]"
   ]
  },
  {
   "cell_type": "code",
   "execution_count": 9,
   "id": "plastic-practitioner",
   "metadata": {},
   "outputs": [
    {
     "data": {
      "text/plain": [
       "['\\tVa !\\n', '\\tMarche.\\n', '\\tBouge !\\n', '\\tSalut !\\n', '\\tSalut.\\n']"
      ]
     },
     "execution_count": 9,
     "metadata": {},
     "output_type": "execute_result"
    }
   ],
   "source": [
    "target_texts[:5]"
   ]
  },
  {
   "cell_type": "code",
   "execution_count": 10,
   "id": "animal-lobby",
   "metadata": {},
   "outputs": [
    {
     "data": {
      "text/plain": [
       "59"
      ]
     },
     "execution_count": 10,
     "metadata": {},
     "output_type": "execute_result"
    }
   ],
   "source": [
    "max([len(txt) for txt in target_texts])"
   ]
  },
  {
   "cell_type": "code",
   "execution_count": 48,
   "id": "strategic-roller",
   "metadata": {},
   "outputs": [
    {
     "name": "stdout",
     "output_type": "stream",
     "text": [
      "Number of input_texts: 10000\n",
      "Number of target_texts: 10000\n"
     ]
    }
   ],
   "source": [
    "print('Number of input_texts:', len(input_texts))\n",
    "print('Number of target_texts:', len(target_texts))"
   ]
  },
  {
   "cell_type": "code",
   "execution_count": 23,
   "id": "applied-sleeve",
   "metadata": {},
   "outputs": [
    {
     "data": {
      "text/plain": [
       "(10000, 59, 93)"
      ]
     },
     "execution_count": 23,
     "metadata": {},
     "output_type": "execute_result"
    }
   ],
   "source": [
    "decoder_input_data.shape"
   ]
  },
  {
   "cell_type": "code",
   "execution_count": null,
   "id": "advance-testing",
   "metadata": {},
   "outputs": [],
   "source": [
    "input_characters = sorted(list(input_characters))\n",
    "target_characters = sorted(list(target_characters))\n",
    "num_encoder_tokens = len(input_characters)\n",
    "num_decoder_tokens = len(target_characters)\n",
    "max_encoder_seq_length = max([len(txt) for txt in input_texts])\n",
    "max_decoder_seq_length = max([len(txt) for txt in target_texts])"
   ]
  },
  {
   "cell_type": "code",
   "execution_count": null,
   "id": "moral-steel",
   "metadata": {},
   "outputs": [],
   "source": [
    "input_token_index = dict([(char, i) for i, char in enumerate(input_characters)])\n",
    "target_token_index = dict([(char, i) for i, char in enumerate(target_characters)])"
   ]
  },
  {
   "cell_type": "code",
   "execution_count": null,
   "id": "average-tracker",
   "metadata": {},
   "outputs": [],
   "source": [
    "# len(input_texts) = len(target_texts)\n",
    "# encoder is taken as english and decoder is taken as french\n",
    "\n",
    "# encoder english\n",
    "encoder_input_data = np.zeros(\n",
    "    (len(input_texts), max_encoder_seq_length, num_encoder_tokens), dtype='float32')\n",
    "\n",
    "# decoder french\n",
    "decoder_input_data = np.zeros(\n",
    "    (len(target_texts), max_decoder_seq_length, num_decoder_tokens), dtype='float32')\n",
    "decoder_target_data = np.zeros(\n",
    "    (len(target_texts), max_decoder_seq_length, num_decoder_tokens), dtype='float32')"
   ]
  },
  {
   "cell_type": "code",
   "execution_count": 30,
   "id": "genetic-proposal",
   "metadata": {},
   "outputs": [
    {
     "data": {
      "text/plain": [
       "(10000, 15, 71)"
      ]
     },
     "execution_count": 30,
     "metadata": {},
     "output_type": "execute_result"
    }
   ],
   "source": [
    "encoder_input_data.shape"
   ]
  },
  {
   "cell_type": "code",
   "execution_count": 38,
   "id": "interior-cabin",
   "metadata": {},
   "outputs": [],
   "source": [
    "for i, (input_text, target_text) in enumerate(zip(input_texts, target_texts)):\n",
    "    for t, char in enumerate(input_text):\n",
    "        encoder_input_data[i, t, input_token_index[char]] = 1.\n",
    "    encoder_input_data[i, t+1:, input_token_index[' ']] = 1.\n",
    "    \n",
    "    for t, char in enumerate(target_text):\n",
    "        # decoder_target_data is ahead of decoder_input_data by one time stamp\n",
    "        decoder_input_data[i, t, target_token_index[char]] = 1.\n",
    "        if t > 0:\n",
    "            # decoder target data ahead by one timestamp\n",
    "            # and will not include the start character\n",
    "            decoder_target_data[i, t-1, target_token_index[char]] = 1.\n",
    "    \n",
    "    decoder_input_data[i, t+1:, target_token_index[' ']] = 1.\n",
    "    decoder_target_data[i, t:, target_token_index[' ']] = 1."
   ]
  },
  {
   "cell_type": "code",
   "execution_count": 40,
   "id": "communist-corruption",
   "metadata": {},
   "outputs": [],
   "source": [
    "encoder_inputs = Input(shape=(None, num_encoder_tokens))\n",
    "encoder_lstm = LSTM(latent_dim, return_state=True)\n",
    "encoder_outputs, state_h, state_c = encoder(encoder_inputs)\n",
    "# we discard encoder_outputs and only keep the states info\n",
    "encoder_states = [state_h, state_c]"
   ]
  },
  {
   "cell_type": "code",
   "execution_count": 43,
   "id": "technological-palestinian",
   "metadata": {},
   "outputs": [],
   "source": [
    "# set up the decoder using encoder_states as initial states\n",
    "decoder_inputs = Input(shape=(None, num_decoder_tokens))\n",
    "# we setup our decoder to return full output sentences,\n",
    "# and to return internal states as well, we don't use the\n",
    "# return states in the training model, but we will use them in inference\n",
    "decoder_lstm = LSTM(latent_dim, return_sequences=True, return_state=True)\n",
    "decoder_outputs, _, _ = decoder_lstm(decoder_inputs, initial_state=encoder_states)\n",
    "decoder_dense = Dense(num_decoder_tokens, activation='softmax')\n",
    "decoder_outputs = decoder_dense(decoder_outputs)"
   ]
  },
  {
   "cell_type": "code",
   "execution_count": 44,
   "id": "canadian-messaging",
   "metadata": {},
   "outputs": [
    {
     "name": "stdout",
     "output_type": "stream",
     "text": [
      "Model: \"model\"\n",
      "__________________________________________________________________________________________________\n",
      "Layer (type)                    Output Shape         Param #     Connected to                     \n",
      "==================================================================================================\n",
      "input_2 (InputLayer)            [(None, None, 71)]   0                                            \n",
      "__________________________________________________________________________________________________\n",
      "input_4 (InputLayer)            [(None, None, 93)]   0                                            \n",
      "__________________________________________________________________________________________________\n",
      "lstm (LSTM)                     [(None, 256), (None, 335872      input_2[0][0]                    \n",
      "__________________________________________________________________________________________________\n",
      "lstm_3 (LSTM)                   [(None, None, 256),  358400      input_4[0][0]                    \n",
      "                                                                 lstm[1][1]                       \n",
      "                                                                 lstm[1][2]                       \n",
      "__________________________________________________________________________________________________\n",
      "dense (Dense)                   (None, None, 93)     23901       lstm_3[0][0]                     \n",
      "==================================================================================================\n",
      "Total params: 718,173\n",
      "Trainable params: 718,173\n",
      "Non-trainable params: 0\n",
      "__________________________________________________________________________________________________\n"
     ]
    }
   ],
   "source": [
    "# define the model that will turn \n",
    "# encoder_input data and decoder_input data into decoder_target_data\n",
    "model = Model([encoder_inputs, decoder_inputs], decoder_outputs)\n",
    "# we are using categorical_corssentropy because all are one_hot representation\n",
    "model.compile(optimizer='rmsprop', loss='categorical_crossentropy', metrics=['accuracy'])\n",
    "model.summary()"
   ]
  },
  {
   "cell_type": "code",
   "execution_count": 47,
   "id": "egyptian-religion",
   "metadata": {},
   "outputs": [
    {
     "name": "stdout",
     "output_type": "stream",
     "text": [
      "Epoch 1/100\n",
      "125/125 [==============================] - 25s 84ms/step - loss: 1.5096 - accuracy: 0.7055 - val_loss: 1.0279 - val_accuracy: 0.7189\n",
      "Epoch 2/100\n",
      "125/125 [==============================] - 9s 68ms/step - loss: 0.8663 - accuracy: 0.7638 - val_loss: 0.8176 - val_accuracy: 0.7776\n",
      "Epoch 3/100\n",
      "125/125 [==============================] - 7s 59ms/step - loss: 0.6760 - accuracy: 0.8112 - val_loss: 0.6919 - val_accuracy: 0.8016\n",
      "Epoch 4/100\n",
      "125/125 [==============================] - 7s 57ms/step - loss: 0.5806 - accuracy: 0.8323 - val_loss: 0.6393 - val_accuracy: 0.8140\n",
      "Epoch 5/100\n",
      "125/125 [==============================] - 8s 61ms/step - loss: 0.5327 - accuracy: 0.8447 - val_loss: 0.5902 - val_accuracy: 0.8278\n",
      "Epoch 6/100\n",
      "125/125 [==============================] - 7s 59ms/step - loss: 0.5003 - accuracy: 0.8534 - val_loss: 0.5656 - val_accuracy: 0.8343\n",
      "Epoch 7/100\n",
      "125/125 [==============================] - 8s 67ms/step - loss: 0.4711 - accuracy: 0.8606 - val_loss: 0.5418 - val_accuracy: 0.8415\n",
      "Epoch 8/100\n",
      "125/125 [==============================] - 8s 68ms/step - loss: 0.4460 - accuracy: 0.8675 - val_loss: 0.5279 - val_accuracy: 0.8455\n",
      "Epoch 9/100\n",
      "125/125 [==============================] - 9s 70ms/step - loss: 0.4221 - accuracy: 0.8740 - val_loss: 0.5139 - val_accuracy: 0.8478\n",
      "Epoch 10/100\n",
      "125/125 [==============================] - 9s 72ms/step - loss: 0.4039 - accuracy: 0.8795 - val_loss: 0.4981 - val_accuracy: 0.8530\n",
      "Epoch 11/100\n",
      "125/125 [==============================] - 9s 69ms/step - loss: 0.3875 - accuracy: 0.8839 - val_loss: 0.4945 - val_accuracy: 0.8533\n",
      "Epoch 12/100\n",
      "125/125 [==============================] - 8s 61ms/step - loss: 0.3680 - accuracy: 0.8894 - val_loss: 0.4791 - val_accuracy: 0.8577\n",
      "Epoch 13/100\n",
      "125/125 [==============================] - 9s 68ms/step - loss: 0.3528 - accuracy: 0.8936 - val_loss: 0.4655 - val_accuracy: 0.8634\n",
      "Epoch 14/100\n",
      "125/125 [==============================] - 9s 72ms/step - loss: 0.3406 - accuracy: 0.8978 - val_loss: 0.4617 - val_accuracy: 0.8651\n",
      "Epoch 15/100\n",
      "125/125 [==============================] - 8s 68ms/step - loss: 0.3228 - accuracy: 0.9026 - val_loss: 0.4596 - val_accuracy: 0.8661\n",
      "Epoch 16/100\n",
      "125/125 [==============================] - 9s 69ms/step - loss: 0.3124 - accuracy: 0.9059 - val_loss: 0.4570 - val_accuracy: 0.8675\n",
      "Epoch 17/100\n",
      "125/125 [==============================] - 8s 64ms/step - loss: 0.3013 - accuracy: 0.9092 - val_loss: 0.4516 - val_accuracy: 0.8694\n",
      "Epoch 18/100\n",
      "125/125 [==============================] - 7s 56ms/step - loss: 0.2886 - accuracy: 0.9127 - val_loss: 0.4468 - val_accuracy: 0.8709\n",
      "Epoch 19/100\n",
      "125/125 [==============================] - 7s 60ms/step - loss: 0.2782 - accuracy: 0.9157 - val_loss: 0.4464 - val_accuracy: 0.8717\n",
      "Epoch 20/100\n",
      "125/125 [==============================] - 9s 72ms/step - loss: 0.2671 - accuracy: 0.9194 - val_loss: 0.4467 - val_accuracy: 0.8729\n",
      "Epoch 21/100\n",
      "125/125 [==============================] - 8s 64ms/step - loss: 0.2578 - accuracy: 0.9220 - val_loss: 0.4465 - val_accuracy: 0.8724\n",
      "Epoch 22/100\n",
      "125/125 [==============================] - 8s 63ms/step - loss: 0.2488 - accuracy: 0.9255 - val_loss: 0.4467 - val_accuracy: 0.8742\n",
      "Epoch 23/100\n",
      "125/125 [==============================] - 7s 59ms/step - loss: 0.2393 - accuracy: 0.9280 - val_loss: 0.4509 - val_accuracy: 0.8739\n",
      "Epoch 24/100\n",
      "125/125 [==============================] - 8s 65ms/step - loss: 0.2331 - accuracy: 0.9298 - val_loss: 0.4534 - val_accuracy: 0.8732\n",
      "Epoch 25/100\n",
      "125/125 [==============================] - 8s 60ms/step - loss: 0.2219 - accuracy: 0.9326 - val_loss: 0.4559 - val_accuracy: 0.8737\n",
      "Epoch 26/100\n",
      "125/125 [==============================] - 9s 68ms/step - loss: 0.2156 - accuracy: 0.9352 - val_loss: 0.4557 - val_accuracy: 0.8737\n",
      "Epoch 27/100\n",
      "125/125 [==============================] - 9s 72ms/step - loss: 0.2067 - accuracy: 0.9373 - val_loss: 0.4597 - val_accuracy: 0.8748\n",
      "Epoch 28/100\n",
      "125/125 [==============================] - 9s 72ms/step - loss: 0.2011 - accuracy: 0.9391 - val_loss: 0.4596 - val_accuracy: 0.8755\n",
      "Epoch 29/100\n",
      "125/125 [==============================] - 9s 70ms/step - loss: 0.1929 - accuracy: 0.9412 - val_loss: 0.4615 - val_accuracy: 0.8759\n",
      "Epoch 30/100\n",
      "125/125 [==============================] - 9s 69ms/step - loss: 0.1863 - accuracy: 0.9436 - val_loss: 0.4715 - val_accuracy: 0.8745\n",
      "Epoch 31/100\n",
      "125/125 [==============================] - 9s 69ms/step - loss: 0.1817 - accuracy: 0.9449 - val_loss: 0.4741 - val_accuracy: 0.8744\n",
      "Epoch 32/100\n",
      "125/125 [==============================] - 9s 72ms/step - loss: 0.1768 - accuracy: 0.9465 - val_loss: 0.4774 - val_accuracy: 0.8744\n",
      "Epoch 33/100\n",
      "125/125 [==============================] - 8s 61ms/step - loss: 0.1708 - accuracy: 0.9481 - val_loss: 0.4816 - val_accuracy: 0.8749\n",
      "Epoch 34/100\n",
      "125/125 [==============================] - 9s 70ms/step - loss: 0.1650 - accuracy: 0.9499 - val_loss: 0.4847 - val_accuracy: 0.8745\n",
      "Epoch 35/100\n",
      "125/125 [==============================] - 9s 72ms/step - loss: 0.1601 - accuracy: 0.9518 - val_loss: 0.4857 - val_accuracy: 0.8749\n",
      "Epoch 36/100\n",
      "125/125 [==============================] - 9s 68ms/step - loss: 0.1552 - accuracy: 0.9529 - val_loss: 0.4955 - val_accuracy: 0.8745\n",
      "Epoch 37/100\n",
      "125/125 [==============================] - 7s 53ms/step - loss: 0.1477 - accuracy: 0.9552 - val_loss: 0.4983 - val_accuracy: 0.8741\n",
      "Epoch 38/100\n",
      "125/125 [==============================] - 8s 65ms/step - loss: 0.1453 - accuracy: 0.9560 - val_loss: 0.5021 - val_accuracy: 0.8747\n",
      "Epoch 39/100\n",
      "125/125 [==============================] - 7s 59ms/step - loss: 0.1425 - accuracy: 0.9568 - val_loss: 0.5013 - val_accuracy: 0.8747\n",
      "Epoch 40/100\n",
      "125/125 [==============================] - 8s 65ms/step - loss: 0.1359 - accuracy: 0.9584 - val_loss: 0.5175 - val_accuracy: 0.8732\n",
      "Epoch 41/100\n",
      "125/125 [==============================] - 8s 67ms/step - loss: 0.1329 - accuracy: 0.9596 - val_loss: 0.5187 - val_accuracy: 0.8744\n",
      "Epoch 42/100\n",
      "125/125 [==============================] - 9s 68ms/step - loss: 0.1289 - accuracy: 0.9608 - val_loss: 0.5163 - val_accuracy: 0.8741\n",
      "Epoch 43/100\n",
      "125/125 [==============================] - 7s 54ms/step - loss: 0.1244 - accuracy: 0.9621 - val_loss: 0.5254 - val_accuracy: 0.8731\n",
      "Epoch 44/100\n",
      "125/125 [==============================] - 8s 62ms/step - loss: 0.1219 - accuracy: 0.9629 - val_loss: 0.5265 - val_accuracy: 0.8741\n",
      "Epoch 45/100\n",
      "125/125 [==============================] - 9s 71ms/step - loss: 0.1197 - accuracy: 0.9633 - val_loss: 0.5359 - val_accuracy: 0.8733\n",
      "Epoch 46/100\n",
      "125/125 [==============================] - 9s 70ms/step - loss: 0.1157 - accuracy: 0.9648 - val_loss: 0.5359 - val_accuracy: 0.8742\n",
      "Epoch 47/100\n",
      "125/125 [==============================] - 9s 71ms/step - loss: 0.1121 - accuracy: 0.9657 - val_loss: 0.5482 - val_accuracy: 0.8729\n",
      "Epoch 48/100\n",
      "125/125 [==============================] - 8s 63ms/step - loss: 0.1104 - accuracy: 0.9659 - val_loss: 0.5501 - val_accuracy: 0.8732\n",
      "Epoch 49/100\n",
      "125/125 [==============================] - 9s 69ms/step - loss: 0.1068 - accuracy: 0.9673 - val_loss: 0.5488 - val_accuracy: 0.8740\n",
      "Epoch 50/100\n",
      "125/125 [==============================] - 8s 60ms/step - loss: 0.1039 - accuracy: 0.9681 - val_loss: 0.5619 - val_accuracy: 0.8732\n",
      "Epoch 51/100\n",
      "125/125 [==============================] - 9s 69ms/step - loss: 0.1012 - accuracy: 0.9686 - val_loss: 0.5604 - val_accuracy: 0.8744\n",
      "Epoch 52/100\n",
      "125/125 [==============================] - 9s 71ms/step - loss: 0.0989 - accuracy: 0.9693 - val_loss: 0.5730 - val_accuracy: 0.8734\n",
      "Epoch 53/100\n",
      "125/125 [==============================] - 9s 70ms/step - loss: 0.0975 - accuracy: 0.9697 - val_loss: 0.5715 - val_accuracy: 0.8735\n",
      "Epoch 54/100\n",
      "125/125 [==============================] - 9s 71ms/step - loss: 0.0927 - accuracy: 0.9713 - val_loss: 0.5767 - val_accuracy: 0.8735\n",
      "Epoch 55/100\n",
      "125/125 [==============================] - 8s 66ms/step - loss: 0.0928 - accuracy: 0.9709 - val_loss: 0.5813 - val_accuracy: 0.8735\n",
      "Epoch 56/100\n",
      "125/125 [==============================] - 9s 68ms/step - loss: 0.0904 - accuracy: 0.9717 - val_loss: 0.5864 - val_accuracy: 0.8729\n",
      "Epoch 57/100\n"
     ]
    },
    {
     "name": "stdout",
     "output_type": "stream",
     "text": [
      "125/125 [==============================] - 7s 60ms/step - loss: 0.0870 - accuracy: 0.9728 - val_loss: 0.5907 - val_accuracy: 0.8733\n",
      "Epoch 58/100\n",
      "125/125 [==============================] - 9s 68ms/step - loss: 0.0849 - accuracy: 0.9732 - val_loss: 0.5955 - val_accuracy: 0.8732\n",
      "Epoch 59/100\n",
      "125/125 [==============================] - 9s 71ms/step - loss: 0.0836 - accuracy: 0.9734 - val_loss: 0.5973 - val_accuracy: 0.8731\n",
      "Epoch 60/100\n",
      "125/125 [==============================] - 8s 62ms/step - loss: 0.0821 - accuracy: 0.9744 - val_loss: 0.6019 - val_accuracy: 0.8742\n",
      "Epoch 61/100\n",
      "125/125 [==============================] - 8s 65ms/step - loss: 0.0798 - accuracy: 0.9746 - val_loss: 0.6117 - val_accuracy: 0.8720\n",
      "Epoch 62/100\n",
      "125/125 [==============================] - 7s 58ms/step - loss: 0.0777 - accuracy: 0.9753 - val_loss: 0.6109 - val_accuracy: 0.8731\n",
      "Epoch 63/100\n",
      "125/125 [==============================] - 7s 59ms/step - loss: 0.0771 - accuracy: 0.9754 - val_loss: 0.6211 - val_accuracy: 0.8731\n",
      "Epoch 64/100\n",
      "125/125 [==============================] - 9s 70ms/step - loss: 0.0737 - accuracy: 0.9764 - val_loss: 0.6202 - val_accuracy: 0.8727\n",
      "Epoch 65/100\n",
      "125/125 [==============================] - 7s 58ms/step - loss: 0.0736 - accuracy: 0.9766 - val_loss: 0.6232 - val_accuracy: 0.8732\n",
      "Epoch 66/100\n",
      "125/125 [==============================] - 8s 63ms/step - loss: 0.0702 - accuracy: 0.9778 - val_loss: 0.6285 - val_accuracy: 0.8721\n",
      "Epoch 67/100\n",
      "125/125 [==============================] - 9s 70ms/step - loss: 0.0698 - accuracy: 0.9775 - val_loss: 0.6295 - val_accuracy: 0.8728\n",
      "Epoch 68/100\n",
      "125/125 [==============================] - 9s 72ms/step - loss: 0.0687 - accuracy: 0.9779 - val_loss: 0.6385 - val_accuracy: 0.8728\n",
      "Epoch 69/100\n",
      "125/125 [==============================] - 9s 71ms/step - loss: 0.0667 - accuracy: 0.9785 - val_loss: 0.6412 - val_accuracy: 0.8721\n",
      "Epoch 70/100\n",
      "125/125 [==============================] - 9s 72ms/step - loss: 0.0660 - accuracy: 0.9785 - val_loss: 0.6466 - val_accuracy: 0.8732\n",
      "Epoch 71/100\n",
      "125/125 [==============================] - 7s 53ms/step - loss: 0.0649 - accuracy: 0.9789 - val_loss: 0.6516 - val_accuracy: 0.8730\n",
      "Epoch 72/100\n",
      "125/125 [==============================] - 7s 54ms/step - loss: 0.0628 - accuracy: 0.9797 - val_loss: 0.6573 - val_accuracy: 0.8719\n",
      "Epoch 73/100\n",
      "125/125 [==============================] - 8s 62ms/step - loss: 0.0617 - accuracy: 0.9797 - val_loss: 0.6570 - val_accuracy: 0.8732\n",
      "Epoch 74/100\n",
      "125/125 [==============================] - 9s 71ms/step - loss: 0.0609 - accuracy: 0.9802 - val_loss: 0.6617 - val_accuracy: 0.8722\n",
      "Epoch 75/100\n",
      "125/125 [==============================] - 8s 64ms/step - loss: 0.0597 - accuracy: 0.9805 - val_loss: 0.6691 - val_accuracy: 0.8720\n",
      "Epoch 76/100\n",
      "125/125 [==============================] - 7s 53ms/step - loss: 0.0586 - accuracy: 0.9803 - val_loss: 0.6710 - val_accuracy: 0.8724\n",
      "Epoch 77/100\n",
      "125/125 [==============================] - 7s 54ms/step - loss: 0.0575 - accuracy: 0.9809 - val_loss: 0.6728 - val_accuracy: 0.8726\n",
      "Epoch 78/100\n",
      "125/125 [==============================] - 7s 54ms/step - loss: 0.0562 - accuracy: 0.9813 - val_loss: 0.6767 - val_accuracy: 0.8729\n",
      "Epoch 79/100\n",
      "125/125 [==============================] - 9s 68ms/step - loss: 0.0557 - accuracy: 0.9815 - val_loss: 0.6781 - val_accuracy: 0.8726\n",
      "Epoch 80/100\n",
      "125/125 [==============================] - 9s 72ms/step - loss: 0.0544 - accuracy: 0.9821 - val_loss: 0.6871 - val_accuracy: 0.8723\n",
      "Epoch 81/100\n",
      "125/125 [==============================] - 9s 72ms/step - loss: 0.0536 - accuracy: 0.9820 - val_loss: 0.6921 - val_accuracy: 0.8723\n",
      "Epoch 82/100\n",
      "125/125 [==============================] - 9s 72ms/step - loss: 0.0527 - accuracy: 0.9826 - val_loss: 0.6969 - val_accuracy: 0.8717\n",
      "Epoch 83/100\n",
      "125/125 [==============================] - 8s 65ms/step - loss: 0.0521 - accuracy: 0.9822 - val_loss: 0.7021 - val_accuracy: 0.8723\n",
      "Epoch 84/100\n",
      "125/125 [==============================] - 8s 66ms/step - loss: 0.0507 - accuracy: 0.9828 - val_loss: 0.6986 - val_accuracy: 0.8718\n",
      "Epoch 85/100\n",
      "125/125 [==============================] - 7s 59ms/step - loss: 0.0500 - accuracy: 0.9830 - val_loss: 0.7058 - val_accuracy: 0.8713\n",
      "Epoch 86/100\n",
      "125/125 [==============================] - 7s 57ms/step - loss: 0.0492 - accuracy: 0.9832 - val_loss: 0.7064 - val_accuracy: 0.8720\n",
      "Epoch 87/100\n",
      "125/125 [==============================] - 7s 58ms/step - loss: 0.0484 - accuracy: 0.9835 - val_loss: 0.7138 - val_accuracy: 0.8715\n",
      "Epoch 88/100\n",
      "125/125 [==============================] - 7s 57ms/step - loss: 0.0482 - accuracy: 0.9835 - val_loss: 0.7183 - val_accuracy: 0.8715\n",
      "Epoch 89/100\n",
      "125/125 [==============================] - 8s 61ms/step - loss: 0.0475 - accuracy: 0.9836 - val_loss: 0.7174 - val_accuracy: 0.8718\n",
      "Epoch 90/100\n",
      "125/125 [==============================] - 7s 58ms/step - loss: 0.0471 - accuracy: 0.9841 - val_loss: 0.7206 - val_accuracy: 0.8718\n",
      "Epoch 91/100\n",
      "125/125 [==============================] - 9s 71ms/step - loss: 0.0456 - accuracy: 0.9843 - val_loss: 0.7277 - val_accuracy: 0.8716\n",
      "Epoch 92/100\n",
      "125/125 [==============================] - 9s 70ms/step - loss: 0.0457 - accuracy: 0.9842 - val_loss: 0.7282 - val_accuracy: 0.8717\n",
      "Epoch 93/100\n",
      "125/125 [==============================] - 8s 65ms/step - loss: 0.0445 - accuracy: 0.9845 - val_loss: 0.7317 - val_accuracy: 0.8711\n",
      "Epoch 94/100\n",
      "125/125 [==============================] - 8s 68ms/step - loss: 0.0441 - accuracy: 0.9848 - val_loss: 0.7362 - val_accuracy: 0.8708\n",
      "Epoch 95/100\n",
      "125/125 [==============================] - 9s 70ms/step - loss: 0.0434 - accuracy: 0.9849 - val_loss: 0.7372 - val_accuracy: 0.8715\n",
      "Epoch 96/100\n",
      "125/125 [==============================] - 8s 62ms/step - loss: 0.0426 - accuracy: 0.9852 - val_loss: 0.7468 - val_accuracy: 0.8719\n",
      "Epoch 97/100\n",
      "125/125 [==============================] - 8s 64ms/step - loss: 0.0425 - accuracy: 0.9851 - val_loss: 0.7457 - val_accuracy: 0.8716\n",
      "Epoch 98/100\n",
      "125/125 [==============================] - 7s 56ms/step - loss: 0.0419 - accuracy: 0.9853 - val_loss: 0.7527 - val_accuracy: 0.8717\n",
      "Epoch 99/100\n",
      "125/125 [==============================] - 8s 61ms/step - loss: 0.0406 - accuracy: 0.9856 - val_loss: 0.7457 - val_accuracy: 0.8713\n",
      "Epoch 100/100\n",
      "125/125 [==============================] - 8s 64ms/step - loss: 0.0405 - accuracy: 0.9856 - val_loss: 0.7515 - val_accuracy: 0.8717\n"
     ]
    },
    {
     "data": {
      "text/plain": [
       "<tensorflow.python.keras.callbacks.History at 0x1e91ac98790>"
      ]
     },
     "execution_count": 47,
     "metadata": {},
     "output_type": "execute_result"
    }
   ],
   "source": [
    "model.fit([encoder_input_data, decoder_input_data], decoder_target_data, batch_size=batch_size,\n",
    "          epochs=epochs, validation_split=0.2)"
   ]
  },
  {
   "cell_type": "code",
   "execution_count": 32,
   "id": "printable-trinidad",
   "metadata": {},
   "outputs": [
    {
     "data": {
      "text/plain": [
       "71"
      ]
     },
     "execution_count": 32,
     "metadata": {},
     "output_type": "execute_result"
    }
   ],
   "source": [
    "len(input_characters)"
   ]
  },
  {
   "cell_type": "code",
   "execution_count": 35,
   "id": "consistent-milton",
   "metadata": {},
   "outputs": [
    {
     "name": "stdout",
     "output_type": "stream",
     "text": [
      "ansar\n",
      "ansar\n",
      "ansar\n",
      "ansar\n",
      "ansar\n",
      "4\n"
     ]
    }
   ],
   "source": [
    "for i in range(5):\n",
    "    print('ansar')\n",
    "print(i)"
   ]
  },
  {
   "cell_type": "code",
   "execution_count": 36,
   "id": "academic-thought",
   "metadata": {},
   "outputs": [
    {
     "data": {
      "text/plain": [
       "4"
      ]
     },
     "execution_count": 36,
     "metadata": {},
     "output_type": "execute_result"
    }
   ],
   "source": [
    "i"
   ]
  },
  {
   "cell_type": "code",
   "execution_count": 27,
   "id": "exciting-reverse",
   "metadata": {},
   "outputs": [
    {
     "data": {
      "text/plain": [
       "[('ansar', 'facebook'), ('vamsi', 'google')]"
      ]
     },
     "execution_count": 27,
     "metadata": {},
     "output_type": "execute_result"
    }
   ],
   "source": [
    "names = ['ansar', 'vamsi']\n",
    "comp = ['facebook', 'google']\n",
    "zipped = zip(names, comp)\n",
    "list(zipped)"
   ]
  }
 ],
 "metadata": {
  "kernelspec": {
   "display_name": "Python 3",
   "language": "python",
   "name": "python3"
  },
  "language_info": {
   "codemirror_mode": {
    "name": "ipython",
    "version": 3
   },
   "file_extension": ".py",
   "mimetype": "text/x-python",
   "name": "python",
   "nbconvert_exporter": "python",
   "pygments_lexer": "ipython3",
   "version": "3.8.0"
  }
 },
 "nbformat": 4,
 "nbformat_minor": 5
}
