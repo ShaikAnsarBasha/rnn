{
 "cells": [
  {
   "cell_type": "markdown",
   "metadata": {},
   "source": [
    "### Stock Market Prediction And Forecasting Using Stacked LSTM"
   ]
  },
  {
   "cell_type": "code",
   "execution_count": 1,
   "metadata": {},
   "outputs": [
    {
     "data": {
      "text/html": [
       "<div>\n",
       "<style scoped>\n",
       "    .dataframe tbody tr th:only-of-type {\n",
       "        vertical-align: middle;\n",
       "    }\n",
       "\n",
       "    .dataframe tbody tr th {\n",
       "        vertical-align: top;\n",
       "    }\n",
       "\n",
       "    .dataframe thead th {\n",
       "        text-align: right;\n",
       "    }\n",
       "</style>\n",
       "<table border=\"1\" class=\"dataframe\">\n",
       "  <thead>\n",
       "    <tr style=\"text-align: right;\">\n",
       "      <th></th>\n",
       "      <th>Unnamed: 0</th>\n",
       "      <th>symbol</th>\n",
       "      <th>date</th>\n",
       "      <th>close</th>\n",
       "      <th>high</th>\n",
       "      <th>low</th>\n",
       "      <th>open</th>\n",
       "      <th>volume</th>\n",
       "      <th>adjClose</th>\n",
       "      <th>adjHigh</th>\n",
       "      <th>adjLow</th>\n",
       "      <th>adjOpen</th>\n",
       "      <th>adjVolume</th>\n",
       "      <th>divCash</th>\n",
       "      <th>splitFactor</th>\n",
       "    </tr>\n",
       "  </thead>\n",
       "  <tbody>\n",
       "    <tr>\n",
       "      <th>0</th>\n",
       "      <td>0</td>\n",
       "      <td>AAPL</td>\n",
       "      <td>2015-05-27 00:00:00+00:00</td>\n",
       "      <td>132.045</td>\n",
       "      <td>132.260</td>\n",
       "      <td>130.05</td>\n",
       "      <td>130.34</td>\n",
       "      <td>45833246</td>\n",
       "      <td>121.682558</td>\n",
       "      <td>121.880685</td>\n",
       "      <td>119.844118</td>\n",
       "      <td>120.111360</td>\n",
       "      <td>45833246</td>\n",
       "      <td>0.0</td>\n",
       "      <td>1.0</td>\n",
       "    </tr>\n",
       "    <tr>\n",
       "      <th>1</th>\n",
       "      <td>1</td>\n",
       "      <td>AAPL</td>\n",
       "      <td>2015-05-28 00:00:00+00:00</td>\n",
       "      <td>131.780</td>\n",
       "      <td>131.950</td>\n",
       "      <td>131.10</td>\n",
       "      <td>131.86</td>\n",
       "      <td>30733309</td>\n",
       "      <td>121.438354</td>\n",
       "      <td>121.595013</td>\n",
       "      <td>120.811718</td>\n",
       "      <td>121.512076</td>\n",
       "      <td>30733309</td>\n",
       "      <td>0.0</td>\n",
       "      <td>1.0</td>\n",
       "    </tr>\n",
       "    <tr>\n",
       "      <th>2</th>\n",
       "      <td>2</td>\n",
       "      <td>AAPL</td>\n",
       "      <td>2015-05-29 00:00:00+00:00</td>\n",
       "      <td>130.280</td>\n",
       "      <td>131.450</td>\n",
       "      <td>129.90</td>\n",
       "      <td>131.23</td>\n",
       "      <td>50884452</td>\n",
       "      <td>120.056069</td>\n",
       "      <td>121.134251</td>\n",
       "      <td>119.705890</td>\n",
       "      <td>120.931516</td>\n",
       "      <td>50884452</td>\n",
       "      <td>0.0</td>\n",
       "      <td>1.0</td>\n",
       "    </tr>\n",
       "    <tr>\n",
       "      <th>3</th>\n",
       "      <td>3</td>\n",
       "      <td>AAPL</td>\n",
       "      <td>2015-06-01 00:00:00+00:00</td>\n",
       "      <td>130.535</td>\n",
       "      <td>131.390</td>\n",
       "      <td>130.05</td>\n",
       "      <td>131.20</td>\n",
       "      <td>32112797</td>\n",
       "      <td>120.291057</td>\n",
       "      <td>121.078960</td>\n",
       "      <td>119.844118</td>\n",
       "      <td>120.903870</td>\n",
       "      <td>32112797</td>\n",
       "      <td>0.0</td>\n",
       "      <td>1.0</td>\n",
       "    </tr>\n",
       "    <tr>\n",
       "      <th>4</th>\n",
       "      <td>4</td>\n",
       "      <td>AAPL</td>\n",
       "      <td>2015-06-02 00:00:00+00:00</td>\n",
       "      <td>129.960</td>\n",
       "      <td>130.655</td>\n",
       "      <td>129.32</td>\n",
       "      <td>129.86</td>\n",
       "      <td>33667627</td>\n",
       "      <td>119.761181</td>\n",
       "      <td>120.401640</td>\n",
       "      <td>119.171406</td>\n",
       "      <td>119.669029</td>\n",
       "      <td>33667627</td>\n",
       "      <td>0.0</td>\n",
       "      <td>1.0</td>\n",
       "    </tr>\n",
       "  </tbody>\n",
       "</table>\n",
       "</div>"
      ],
      "text/plain": [
       "   Unnamed: 0 symbol                       date    close     high     low  \\\n",
       "0           0   AAPL  2015-05-27 00:00:00+00:00  132.045  132.260  130.05   \n",
       "1           1   AAPL  2015-05-28 00:00:00+00:00  131.780  131.950  131.10   \n",
       "2           2   AAPL  2015-05-29 00:00:00+00:00  130.280  131.450  129.90   \n",
       "3           3   AAPL  2015-06-01 00:00:00+00:00  130.535  131.390  130.05   \n",
       "4           4   AAPL  2015-06-02 00:00:00+00:00  129.960  130.655  129.32   \n",
       "\n",
       "     open    volume    adjClose     adjHigh      adjLow     adjOpen  \\\n",
       "0  130.34  45833246  121.682558  121.880685  119.844118  120.111360   \n",
       "1  131.86  30733309  121.438354  121.595013  120.811718  121.512076   \n",
       "2  131.23  50884452  120.056069  121.134251  119.705890  120.931516   \n",
       "3  131.20  32112797  120.291057  121.078960  119.844118  120.903870   \n",
       "4  129.86  33667627  119.761181  120.401640  119.171406  119.669029   \n",
       "\n",
       "   adjVolume  divCash  splitFactor  \n",
       "0   45833246      0.0          1.0  \n",
       "1   30733309      0.0          1.0  \n",
       "2   50884452      0.0          1.0  \n",
       "3   32112797      0.0          1.0  \n",
       "4   33667627      0.0          1.0  "
      ]
     },
     "execution_count": 1,
     "metadata": {},
     "output_type": "execute_result"
    }
   ],
   "source": [
    "import pandas as pd\n",
    "import numpy as np\n",
    "import matplotlib.pyplot as plt\n",
    "import tensorflow as tf\n",
    "df = pd.read_csv('AAPL.csv')\n",
    "df.head()"
   ]
  },
  {
   "cell_type": "code",
   "execution_count": 2,
   "metadata": {},
   "outputs": [
    {
     "data": {
      "text/plain": [
       "0       132.045\n",
       "1       131.780\n",
       "2       130.280\n",
       "3       130.535\n",
       "4       129.960\n",
       "         ...   \n",
       "1253    314.960\n",
       "1254    313.140\n",
       "1255    319.230\n",
       "1256    316.850\n",
       "1257    318.890\n",
       "Name: close, Length: 1258, dtype: float64"
      ]
     },
     "execution_count": 2,
     "metadata": {},
     "output_type": "execute_result"
    }
   ],
   "source": [
    "X = df.reset_index()['close']\n",
    "X"
   ]
  },
  {
   "cell_type": "code",
   "execution_count": 3,
   "metadata": {},
   "outputs": [
    {
     "data": {
      "text/plain": [
       "[<matplotlib.lines.Line2D at 0x25c5eda3070>]"
      ]
     },
     "execution_count": 3,
     "metadata": {},
     "output_type": "execute_result"
    },
    {
     "data": {
      "image/png": "[encoded data removed]",
      "text/plain": [
       "<Figure size 432x288 with 1 Axes>"
      ]
     },
     "metadata": {
      "needs_background": "light"
     },
     "output_type": "display_data"
    }
   ],
   "source": [
    "plt.plot(X)"
   ]
  },
  {
   "cell_type": "code",
   "execution_count": 4,
   "metadata": {},
   "outputs": [
    {
     "data": {
      "text/plain": [
       "0    132.045\n",
       "1    131.780\n",
       "2    130.280\n",
       "3    130.535\n",
       "4    129.960\n",
       "Name: close, dtype: float64"
      ]
     },
     "execution_count": 4,
     "metadata": {},
     "output_type": "execute_result"
    }
   ],
   "source": [
    "X[0:5]"
   ]
  },
  {
   "cell_type": "code",
   "execution_count": 5,
   "metadata": {},
   "outputs": [
    {
     "data": {
      "text/plain": [
       "array([[0.17607447],\n",
       "       [0.17495567],\n",
       "       [0.16862282],\n",
       "       [0.1696994 ],\n",
       "       [0.16727181]])"
      ]
     },
     "execution_count": 5,
     "metadata": {},
     "output_type": "execute_result"
    }
   ],
   "source": [
    "# LSTM are sensitive to the scale of the data. so we apply MinMax scaler \n",
    "from sklearn.preprocessing import MinMaxScaler\n",
    "scaler = MinMaxScaler(feature_range=(0,1))\n",
    "X = scaler.fit_transform(np.array(X).reshape(-1,1))\n",
    "X[0:5]"
   ]
  },
  {
   "cell_type": "code",
   "execution_count": 6,
   "metadata": {},
   "outputs": [],
   "source": [
    "# splitting dataset into train and test split\n",
    "# we should not do train_test_split because it will split randomly\n",
    "# lstm needs continuous data so we are dividing manually\n",
    "training_size = int(len(X)*0.65)\n",
    "test_size = len(X)-training_size\n",
    "train_data, test_data = X[0:training_size, :], X[training_size:len(X), :]"
   ]
  },
  {
   "cell_type": "code",
   "execution_count": 7,
   "metadata": {},
   "outputs": [
    {
     "data": {
      "text/plain": [
       "(817, 441)"
      ]
     },
     "execution_count": 7,
     "metadata": {},
     "output_type": "execute_result"
    }
   ],
   "source": [
    "training_size, test_size"
   ]
  },
  {
   "cell_type": "code",
   "execution_count": 8,
   "metadata": {},
   "outputs": [
    {
     "data": {
      "text/plain": [
       "((817, 1), (441, 1))"
      ]
     },
     "execution_count": 8,
     "metadata": {},
     "output_type": "execute_result"
    }
   ],
   "source": [
    "train_data.shape, test_data.shape"
   ]
  },
  {
   "cell_type": "code",
   "execution_count": 9,
   "metadata": {},
   "outputs": [
    {
     "data": {
      "text/plain": [
       "array([[0.17607447],\n",
       "       [0.17495567],\n",
       "       [0.16862282],\n",
       "       [0.1696994 ],\n",
       "       [0.16727181]])"
      ]
     },
     "execution_count": 9,
     "metadata": {},
     "output_type": "execute_result"
    }
   ],
   "source": [
    "train_data[0:5]"
   ]
  },
  {
   "cell_type": "code",
   "execution_count": 10,
   "metadata": {},
   "outputs": [
    {
     "data": {
      "text/plain": [
       "array([[0.17607447],\n",
       "       [0.17495567],\n",
       "       [0.16862282],\n",
       "       [0.1696994 ],\n",
       "       [0.16727181]])"
      ]
     },
     "execution_count": 10,
     "metadata": {},
     "output_type": "execute_result"
    }
   ],
   "source": [
    "X[0:5]"
   ]
  },
  {
   "cell_type": "code",
   "execution_count": 11,
   "metadata": {},
   "outputs": [],
   "source": [
    "# 1, 2, 3, 4, 5, 6 -train_data\n",
    "# time_stamps = 2\n",
    "# 1, 2 - 3\n",
    "# 2, 3 - 4\n",
    "# 3, 4 - 5\n",
    "# 4, 5 - 6 # the last sample of train_data and last sample of y_train are same"
   ]
  },
  {
   "cell_type": "code",
   "execution_count": 12,
   "metadata": {},
   "outputs": [
    {
     "data": {
      "text/plain": [
       "array([[0.17607447],\n",
       "       [0.17495567]])"
      ]
     },
     "execution_count": 12,
     "metadata": {},
     "output_type": "execute_result"
    }
   ],
   "source": [
    "X[0:2, :]"
   ]
  },
  {
   "cell_type": "code",
   "execution_count": 13,
   "metadata": {},
   "outputs": [
    {
     "data": {
      "text/plain": [
       "array([0.17607447, 0.17495567])"
      ]
     },
     "execution_count": 13,
     "metadata": {},
     "output_type": "execute_result"
    }
   ],
   "source": [
    "X[0:2, :].reshape(-1)"
   ]
  },
  {
   "cell_type": "code",
   "execution_count": 14,
   "metadata": {},
   "outputs": [
    {
     "data": {
      "text/plain": [
       "array([0.17607447])"
      ]
     },
     "execution_count": 14,
     "metadata": {},
     "output_type": "execute_result"
    }
   ],
   "source": [
    "X[0, :]"
   ]
  },
  {
   "cell_type": "code",
   "execution_count": 15,
   "metadata": {},
   "outputs": [
    {
     "data": {
      "text/plain": [
       "0.1760744743730473"
      ]
     },
     "execution_count": 15,
     "metadata": {},
     "output_type": "execute_result"
    }
   ],
   "source": [
    "X[0, :][0]"
   ]
  },
  {
   "cell_type": "code",
   "execution_count": 16,
   "metadata": {},
   "outputs": [],
   "source": [
    "# converting array into X_train, y_train\n",
    "def create_dataset(X, time_step):\n",
    "    dataX, datay = [], []\n",
    "    for i in range(len(X)-time_step):\n",
    "        x1 = X[i:(i+time_step), :].reshape(-1)    \n",
    "        y1 = X[(i+time_step), :][0]\n",
    "        dataX.append(x1)\n",
    "        datay.append(y1)\n",
    "    return np.array(dataX), np.array(datay)"
   ]
  },
  {
   "cell_type": "code",
   "execution_count": 17,
   "metadata": {},
   "outputs": [],
   "source": [
    "time_step = 100\n",
    "X_train, y_train = create_dataset(train_data, time_step)\n",
    "X_test, y_test = create_dataset(test_data, time_step)"
   ]
  },
  {
   "cell_type": "code",
   "execution_count": 18,
   "metadata": {},
   "outputs": [
    {
     "data": {
      "text/plain": [
       "array([0.52647133])"
      ]
     },
     "execution_count": 18,
     "metadata": {},
     "output_type": "execute_result"
    }
   ],
   "source": [
    "train_data[len(train_data)-1]"
   ]
  },
  {
   "cell_type": "code",
   "execution_count": 19,
   "metadata": {},
   "outputs": [
    {
     "data": {
      "text/plain": [
       "0.5264713332770414"
      ]
     },
     "execution_count": 19,
     "metadata": {},
     "output_type": "execute_result"
    }
   ],
   "source": [
    "y_train[len(y_train)-1]"
   ]
  },
  {
   "cell_type": "code",
   "execution_count": 20,
   "metadata": {},
   "outputs": [
    {
     "data": {
      "text/plain": [
       "array([ True])"
      ]
     },
     "execution_count": 20,
     "metadata": {},
     "output_type": "execute_result"
    }
   ],
   "source": [
    "train_data[len(train_data)-1] == y_train[len(y_train)-1]"
   ]
  },
  {
   "cell_type": "code",
   "execution_count": 21,
   "metadata": {},
   "outputs": [
    {
     "data": {
      "text/plain": [
       "((717, 100), (717,))"
      ]
     },
     "execution_count": 21,
     "metadata": {},
     "output_type": "execute_result"
    }
   ],
   "source": [
    "X_train.shape, y_train.shape"
   ]
  },
  {
   "cell_type": "code",
   "execution_count": 22,
   "metadata": {},
   "outputs": [
    {
     "data": {
      "text/plain": [
       "((341, 100), (341,))"
      ]
     },
     "execution_count": 22,
     "metadata": {},
     "output_type": "execute_result"
    }
   ],
   "source": [
    "X_test.shape, y_test.shape"
   ]
  },
  {
   "cell_type": "code",
   "execution_count": 23,
   "metadata": {},
   "outputs": [],
   "source": [
    "# reshape input to be [samples, time steps, features] which is required for LSTM\n",
    "# the input for lstm is 3dimensional\n",
    "X_train =X_train.reshape(X_train.shape[0], X_train.shape[1], 1)\n",
    "X_test = X_test.reshape(X_test.shape[0], X_test.shape[1], 1)"
   ]
  },
  {
   "cell_type": "code",
   "execution_count": 24,
   "metadata": {},
   "outputs": [],
   "source": [
    "# Creating the Stacked LSTM model\n",
    "from tensorflow.keras.models import Sequential\n",
    "from tensorflow.keras.layers import Dense\n",
    "from tensorflow.keras.layers import LSTM"
   ]
  },
  {
   "cell_type": "code",
   "execution_count": 25,
   "metadata": {},
   "outputs": [
    {
     "name": "stdout",
     "output_type": "stream",
     "text": [
      "Model: \"sequential\"\n",
      "_________________________________________________________________\n",
      "Layer (type)                 Output Shape              Param #   \n",
      "=================================================================\n",
      "lstm (LSTM)                  (None, 100, 50)           10400     \n",
      "_________________________________________________________________\n",
      "lstm_1 (LSTM)                (None, 100, 50)           20200     \n",
      "_________________________________________________________________\n",
      "lstm_2 (LSTM)                (None, 50)                20200     \n",
      "_________________________________________________________________\n",
      "dense (Dense)                (None, 1)                 51        \n",
      "=================================================================\n",
      "Total params: 50,851\n",
      "Trainable params: 50,851\n",
      "Non-trainable params: 0\n",
      "_________________________________________________________________\n"
     ]
    }
   ],
   "source": [
    "model=Sequential()\n",
    "model.add(LSTM(50, return_sequences=True, input_shape=(100,1)))\n",
    "model.add(LSTM(50, return_sequences=True))\n",
    "model.add(LSTM(50))\n",
    "model.add(Dense(1))\n",
    "model.summary()"
   ]
  },
  {
   "cell_type": "code",
   "execution_count": 26,
   "metadata": {},
   "outputs": [],
   "source": [
    "# for each training sample of dim (100, 1) the output shape is (100, 50) of first lstm layer\n",
    "# the output for 2nd lstm layer is also (100, 50)\n",
    "# the output for 3rd lstm layer is (100,)\n",
    "# the output of dense layer is 1"
   ]
  },
  {
   "cell_type": "code",
   "execution_count": 27,
   "metadata": {},
   "outputs": [
    {
     "name": "stdout",
     "output_type": "stream",
     "text": [
      "Epoch 1/100\n",
      "12/12 [==============================] - 20s 530ms/step - loss: 0.0222 - val_loss: 0.0569\n",
      "Epoch 2/100\n",
      "12/12 [==============================] - 1s 46ms/step - loss: 0.0037 - val_loss: 0.0044\n",
      "Epoch 3/100\n",
      "12/12 [==============================] - 1s 55ms/step - loss: 0.0010 - val_loss: 0.0082\n",
      "Epoch 4/100\n",
      "12/12 [==============================] - 1s 78ms/step - loss: 8.0541e-04 - val_loss: 0.0039\n",
      "Epoch 5/100\n",
      "12/12 [==============================] - 1s 85ms/step - loss: 5.9467e-04 - val_loss: 0.0044\n",
      "Epoch 6/100\n",
      "12/12 [==============================] - 1s 54ms/step - loss: 6.4515e-04 - val_loss: 0.0038\n",
      "Epoch 7/100\n",
      "12/12 [==============================] - 1s 78ms/step - loss: 5.8398e-04 - val_loss: 0.0038\n",
      "Epoch 8/100\n",
      "12/12 [==============================] - 1s 47ms/step - loss: 5.7976e-04 - val_loss: 0.0039\n",
      "Epoch 9/100\n",
      "12/12 [==============================] - 1s 50ms/step - loss: 5.7154e-04 - val_loss: 0.0038\n",
      "Epoch 10/100\n",
      "12/12 [==============================] - 1s 47ms/step - loss: 5.7294e-04 - val_loss: 0.0036\n",
      "Epoch 11/100\n",
      "12/12 [==============================] - 1s 49ms/step - loss: 6.2067e-04 - val_loss: 0.0034\n",
      "Epoch 12/100\n",
      "12/12 [==============================] - 1s 46ms/step - loss: 5.3088e-04 - val_loss: 0.0034\n",
      "Epoch 13/100\n",
      "12/12 [==============================] - 1s 47ms/step - loss: 5.9726e-04 - val_loss: 0.0033\n",
      "Epoch 14/100\n",
      "12/12 [==============================] - 1s 46ms/step - loss: 5.5433e-04 - val_loss: 0.0032\n",
      "Epoch 15/100\n",
      "12/12 [==============================] - 1s 51ms/step - loss: 5.5044e-04 - val_loss: 0.0032\n",
      "Epoch 16/100\n",
      "12/12 [==============================] - 1s 72ms/step - loss: 5.3468e-04 - val_loss: 0.0031\n",
      "Epoch 17/100\n",
      "12/12 [==============================] - 1s 54ms/step - loss: 5.1527e-04 - val_loss: 0.0029\n",
      "Epoch 18/100\n",
      "12/12 [==============================] - 1s 52ms/step - loss: 4.9456e-04 - val_loss: 0.0029\n",
      "Epoch 19/100\n",
      "12/12 [==============================] - 1s 49ms/step - loss: 5.5208e-04 - val_loss: 0.0027\n",
      "Epoch 20/100\n",
      "12/12 [==============================] - 1s 52ms/step - loss: 5.4279e-04 - val_loss: 0.0026\n",
      "Epoch 21/100\n",
      "12/12 [==============================] - 1s 54ms/step - loss: 5.1067e-04 - val_loss: 0.0027\n",
      "Epoch 22/100\n",
      "12/12 [==============================] - 1s 48ms/step - loss: 4.4461e-04 - val_loss: 0.0029\n",
      "Epoch 23/100\n",
      "12/12 [==============================] - 1s 47ms/step - loss: 5.0843e-04 - val_loss: 0.0025\n",
      "Epoch 24/100\n",
      "12/12 [==============================] - 1s 51ms/step - loss: 4.6078e-04 - val_loss: 0.0030\n",
      "Epoch 25/100\n",
      "12/12 [==============================] - 1s 51ms/step - loss: 4.7779e-04 - val_loss: 0.0021\n",
      "Epoch 26/100\n",
      "12/12 [==============================] - 1s 51ms/step - loss: 4.7149e-04 - val_loss: 0.0023\n",
      "Epoch 27/100\n",
      "12/12 [==============================] - 1s 57ms/step - loss: 4.4136e-04 - val_loss: 0.0020\n",
      "Epoch 28/100\n",
      "12/12 [==============================] - 1s 91ms/step - loss: 4.1854e-04 - val_loss: 0.0019\n",
      "Epoch 29/100\n",
      "12/12 [==============================] - 1s 50ms/step - loss: 4.3290e-04 - val_loss: 0.0018\n",
      "Epoch 30/100\n",
      "12/12 [==============================] - 1s 50ms/step - loss: 4.2379e-04 - val_loss: 0.0024\n",
      "Epoch 31/100\n",
      "12/12 [==============================] - 1s 50ms/step - loss: 4.8662e-04 - val_loss: 0.0018\n",
      "Epoch 32/100\n",
      "12/12 [==============================] - 1s 51ms/step - loss: 4.4249e-04 - val_loss: 0.0018\n",
      "Epoch 33/100\n",
      "12/12 [==============================] - 1s 48ms/step - loss: 4.0846e-04 - val_loss: 0.0018\n",
      "Epoch 34/100\n",
      "12/12 [==============================] - 1s 51ms/step - loss: 3.9421e-04 - val_loss: 0.0016\n",
      "Epoch 35/100\n",
      "12/12 [==============================] - 1s 51ms/step - loss: 3.6079e-04 - val_loss: 0.0019\n",
      "Epoch 36/100\n",
      "12/12 [==============================] - 1s 61ms/step - loss: 3.9683e-04 - val_loss: 0.0020\n",
      "Epoch 37/100\n",
      "12/12 [==============================] - 1s 51ms/step - loss: 4.6801e-04 - val_loss: 0.0033\n",
      "Epoch 38/100\n",
      "12/12 [==============================] - 1s 50ms/step - loss: 5.0164e-04 - val_loss: 0.0015\n",
      "Epoch 39/100\n",
      "12/12 [==============================] - 1s 49ms/step - loss: 3.9105e-04 - val_loss: 0.0018\n",
      "Epoch 40/100\n",
      "12/12 [==============================] - 1s 53ms/step - loss: 3.6444e-04 - val_loss: 0.0014\n",
      "Epoch 41/100\n",
      "12/12 [==============================] - 1s 60ms/step - loss: 3.5416e-04 - val_loss: 0.0018\n",
      "Epoch 42/100\n",
      "12/12 [==============================] - 1s 56ms/step - loss: 3.2315e-04 - val_loss: 0.0014\n",
      "Epoch 43/100\n",
      "12/12 [==============================] - 1s 58ms/step - loss: 3.4026e-04 - val_loss: 0.0030\n",
      "Epoch 44/100\n",
      "12/12 [==============================] - 1s 57ms/step - loss: 4.0860e-04 - val_loss: 0.0019\n",
      "Epoch 45/100\n",
      "12/12 [==============================] - 1s 53ms/step - loss: 3.7615e-04 - val_loss: 0.0022\n",
      "Epoch 46/100\n",
      "12/12 [==============================] - 1s 65ms/step - loss: 3.2049e-04 - val_loss: 0.0015\n",
      "Epoch 47/100\n",
      "12/12 [==============================] - 1s 49ms/step - loss: 2.9937e-04 - val_loss: 0.0019\n",
      "Epoch 48/100\n",
      "12/12 [==============================] - 1s 47ms/step - loss: 3.1725e-04 - val_loss: 0.0014\n",
      "Epoch 49/100\n",
      "12/12 [==============================] - 1s 49ms/step - loss: 3.0796e-04 - val_loss: 0.0014\n",
      "Epoch 50/100\n",
      "12/12 [==============================] - 1s 47ms/step - loss: 3.0529e-04 - val_loss: 0.0017\n",
      "Epoch 51/100\n",
      "12/12 [==============================] - 1s 48ms/step - loss: 3.5160e-04 - val_loss: 0.0015\n",
      "Epoch 52/100\n",
      "12/12 [==============================] - 1s 64ms/step - loss: 3.4151e-04 - val_loss: 0.0026\n",
      "Epoch 53/100\n",
      "12/12 [==============================] - 1s 67ms/step - loss: 3.3132e-04 - val_loss: 0.0017\n",
      "Epoch 54/100\n",
      "12/12 [==============================] - 1s 51ms/step - loss: 3.8801e-04 - val_loss: 0.0018\n",
      "Epoch 55/100\n",
      "12/12 [==============================] - 1s 57ms/step - loss: 3.9273e-04 - val_loss: 0.0016\n",
      "Epoch 56/100\n",
      "12/12 [==============================] - 1s 91ms/step - loss: 3.9254e-04 - val_loss: 0.0014\n",
      "Epoch 57/100\n",
      "12/12 [==============================] - 1s 72ms/step - loss: 2.9011e-04 - val_loss: 0.0013\n",
      "Epoch 58/100\n",
      "12/12 [==============================] - 1s 72ms/step - loss: 2.7713e-04 - val_loss: 0.0019\n",
      "Epoch 59/100\n",
      "12/12 [==============================] - 1s 63ms/step - loss: 2.7263e-04 - val_loss: 0.0014\n",
      "Epoch 60/100\n",
      "12/12 [==============================] - 1s 58ms/step - loss: 3.2933e-04 - val_loss: 0.0020\n",
      "Epoch 61/100\n",
      "12/12 [==============================] - 1s 69ms/step - loss: 3.8244e-04 - val_loss: 0.0013\n",
      "Epoch 62/100\n",
      "12/12 [==============================] - 1s 63ms/step - loss: 2.8662e-04 - val_loss: 0.0014\n",
      "Epoch 63/100\n",
      "12/12 [==============================] - 1s 57ms/step - loss: 2.4893e-04 - val_loss: 0.0017\n",
      "Epoch 64/100\n",
      "12/12 [==============================] - 1s 48ms/step - loss: 2.6058e-04 - val_loss: 0.0012\n",
      "Epoch 65/100\n",
      "12/12 [==============================] - 1s 48ms/step - loss: 2.5481e-04 - val_loss: 0.0016\n",
      "Epoch 66/100\n",
      "12/12 [==============================] - 1s 53ms/step - loss: 2.5119e-04 - val_loss: 0.0014\n",
      "Epoch 67/100\n",
      "12/12 [==============================] - 1s 86ms/step - loss: 2.2505e-04 - val_loss: 0.0015\n",
      "Epoch 68/100\n",
      "12/12 [==============================] - 1s 61ms/step - loss: 2.2888e-04 - val_loss: 0.0011\n",
      "Epoch 69/100\n",
      "12/12 [==============================] - 1s 64ms/step - loss: 2.4351e-04 - val_loss: 0.0017\n",
      "Epoch 70/100\n",
      "12/12 [==============================] - 1s 79ms/step - loss: 2.4551e-04 - val_loss: 0.0014\n",
      "Epoch 71/100\n",
      "12/12 [==============================] - 1s 86ms/step - loss: 2.1013e-04 - val_loss: 0.0011\n",
      "Epoch 72/100\n",
      "12/12 [==============================] - 1s 102ms/step - loss: 2.1792e-04 - val_loss: 0.0013\n",
      "Epoch 73/100\n",
      "12/12 [==============================] - 1s 81ms/step - loss: 1.9701e-04 - val_loss: 0.0011\n",
      "Epoch 74/100\n",
      "12/12 [==============================] - 1s 88ms/step - loss: 2.2266e-04 - val_loss: 0.0011\n",
      "Epoch 75/100\n",
      "12/12 [==============================] - 1s 86ms/step - loss: 1.9856e-04 - val_loss: 0.0019\n",
      "Epoch 76/100\n",
      "12/12 [==============================] - 1s 68ms/step - loss: 2.6533e-04 - val_loss: 0.0010\n",
      "Epoch 77/100\n",
      "12/12 [==============================] - 1s 53ms/step - loss: 2.0691e-04 - val_loss: 0.0011\n",
      "Epoch 78/100\n",
      "12/12 [==============================] - 1s 50ms/step - loss: 1.9864e-04 - val_loss: 0.0011\n",
      "Epoch 79/100\n"
     ]
    },
    {
     "name": "stdout",
     "output_type": "stream",
     "text": [
      "12/12 [==============================] - 1s 51ms/step - loss: 1.9578e-04 - val_loss: 0.0011\n",
      "Epoch 80/100\n",
      "12/12 [==============================] - 1s 55ms/step - loss: 2.1336e-04 - val_loss: 0.0013\n",
      "Epoch 81/100\n",
      "12/12 [==============================] - 1s 84ms/step - loss: 1.8276e-04 - val_loss: 0.0010\n",
      "Epoch 82/100\n",
      "12/12 [==============================] - 1s 60ms/step - loss: 1.7972e-04 - val_loss: 0.0010\n",
      "Epoch 83/100\n",
      "12/12 [==============================] - 1s 94ms/step - loss: 1.6505e-04 - val_loss: 0.0010\n",
      "Epoch 84/100\n",
      "12/12 [==============================] - 1s 88ms/step - loss: 1.7849e-04 - val_loss: 9.8359e-04\n",
      "Epoch 85/100\n",
      "12/12 [==============================] - 1s 97ms/step - loss: 1.5627e-04 - val_loss: 9.5342e-04\n",
      "Epoch 86/100\n",
      "12/12 [==============================] - 1s 91ms/step - loss: 1.6541e-04 - val_loss: 9.5938e-04\n",
      "Epoch 87/100\n",
      "12/12 [==============================] - 1s 48ms/step - loss: 1.7162e-04 - val_loss: 9.3459e-04\n",
      "Epoch 88/100\n",
      "12/12 [==============================] - 1s 53ms/step - loss: 1.4970e-04 - val_loss: 0.0020\n",
      "Epoch 89/100\n",
      "12/12 [==============================] - 1s 96ms/step - loss: 2.5766e-04 - val_loss: 9.1932e-04\n",
      "Epoch 90/100\n",
      "12/12 [==============================] - 1s 87ms/step - loss: 1.7896e-04 - val_loss: 9.1804e-04\n",
      "Epoch 91/100\n",
      "12/12 [==============================] - 1s 89ms/step - loss: 1.5957e-04 - val_loss: 9.0204e-04\n",
      "Epoch 92/100\n",
      "12/12 [==============================] - 1s 87ms/step - loss: 1.5517e-04 - val_loss: 9.9276e-04\n",
      "Epoch 93/100\n",
      "12/12 [==============================] - 1s 84ms/step - loss: 1.5668e-04 - val_loss: 8.6865e-04\n",
      "Epoch 94/100\n",
      "12/12 [==============================] - 1s 79ms/step - loss: 1.5142e-04 - val_loss: 8.4062e-04\n",
      "Epoch 95/100\n",
      "12/12 [==============================] - 1s 51ms/step - loss: 1.4991e-04 - val_loss: 8.6040e-04\n",
      "Epoch 96/100\n",
      "12/12 [==============================] - 1s 51ms/step - loss: 1.5127e-04 - val_loss: 9.9076e-04\n",
      "Epoch 97/100\n",
      "12/12 [==============================] - 1s 56ms/step - loss: 1.5457e-04 - val_loss: 9.3369e-04\n",
      "Epoch 98/100\n",
      "12/12 [==============================] - 1s 95ms/step - loss: 1.5838e-04 - val_loss: 8.4892e-04\n",
      "Epoch 99/100\n",
      "12/12 [==============================] - 1s 88ms/step - loss: 1.5475e-04 - val_loss: 7.9524e-04\n",
      "Epoch 100/100\n",
      "12/12 [==============================] - 1s 50ms/step - loss: 1.3290e-04 - val_loss: 8.4598e-04\n"
     ]
    },
    {
     "data": {
      "text/plain": [
       "<tensorflow.python.keras.callbacks.History at 0x25c7337a3a0>"
      ]
     },
     "execution_count": 27,
     "metadata": {},
     "output_type": "execute_result"
    }
   ],
   "source": [
    "model.compile(loss='mean_squared_error',optimizer='adam')\n",
    "model.fit(X_train, y_train, validation_data=(X_test,y_test), epochs=100, batch_size=64, verbose=1)"
   ]
  },
  {
   "cell_type": "code",
   "execution_count": 28,
   "metadata": {},
   "outputs": [],
   "source": [
    "# since the above training is not classification so there is no accuracy"
   ]
  },
  {
   "cell_type": "code",
   "execution_count": 29,
   "metadata": {},
   "outputs": [
    {
     "data": {
      "text/plain": [
       "(717, 100, 1)"
      ]
     },
     "execution_count": 29,
     "metadata": {},
     "output_type": "execute_result"
    }
   ],
   "source": [
    "X_train.shape"
   ]
  },
  {
   "cell_type": "code",
   "execution_count": 30,
   "metadata": {},
   "outputs": [],
   "source": [
    "# Lets Do the prediction and check performance metrics\n",
    "train_predict = model.predict(X_train)\n",
    "test_predict = model.predict(X_test)"
   ]
  },
  {
   "cell_type": "code",
   "execution_count": 31,
   "metadata": {},
   "outputs": [
    {
     "data": {
      "text/plain": [
       "array([[0.09213227],\n",
       "       [0.09174249],\n",
       "       [0.09144688],\n",
       "       [0.09261272],\n",
       "       [0.09492974]], dtype=float32)"
      ]
     },
     "execution_count": 31,
     "metadata": {},
     "output_type": "execute_result"
    }
   ],
   "source": [
    "train_predict[0:5]"
   ]
  },
  {
   "cell_type": "code",
   "execution_count": 32,
   "metadata": {},
   "outputs": [
    {
     "data": {
      "text/plain": [
       "array([[0.27217233],\n",
       "       [0.27421206],\n",
       "       [0.27771172],\n",
       "       [0.282173  ],\n",
       "       [0.28288108]], dtype=float32)"
      ]
     },
     "execution_count": 32,
     "metadata": {},
     "output_type": "execute_result"
    }
   ],
   "source": [
    "test_predict[0:5]"
   ]
  },
  {
   "cell_type": "code",
   "execution_count": 33,
   "metadata": {},
   "outputs": [
    {
     "data": {
      "text/plain": [
       "((717, 1), (341, 1))"
      ]
     },
     "execution_count": 33,
     "metadata": {},
     "output_type": "execute_result"
    }
   ],
   "source": [
    "train_predict.shape, test_predict.shape"
   ]
  },
  {
   "cell_type": "code",
   "execution_count": 34,
   "metadata": {},
   "outputs": [
    {
     "data": {
      "text/plain": [
       "((817, 1), (441, 1))"
      ]
     },
     "execution_count": 34,
     "metadata": {},
     "output_type": "execute_result"
    }
   ],
   "source": [
    "train_data.shape, test_data.shape"
   ]
  },
  {
   "cell_type": "code",
   "execution_count": 35,
   "metadata": {},
   "outputs": [
    {
     "data": {
      "text/plain": [
       "(1258, 1)"
      ]
     },
     "execution_count": 35,
     "metadata": {},
     "output_type": "execute_result"
    }
   ],
   "source": [
    "X.shape"
   ]
  },
  {
   "cell_type": "code",
   "execution_count": 36,
   "metadata": {},
   "outputs": [],
   "source": [
    "# since we are training the scaled values now we should retransfrom the scaled values to orginal val\n",
    "# Transformback to original form\n",
    "train_predict = scaler.inverse_transform(train_predict)\n",
    "test_predict = scaler.inverse_transform(test_predict)"
   ]
  },
  {
   "cell_type": "code",
   "execution_count": 37,
   "metadata": {},
   "outputs": [
    {
     "data": {
      "text/plain": [
       "array([[112.162445],\n",
       "       [112.07012 ],\n",
       "       [112.00011 ],\n",
       "       [112.27625 ],\n",
       "       [112.82506 ]], dtype=float32)"
      ]
     },
     "execution_count": 37,
     "metadata": {},
     "output_type": "execute_result"
    }
   ],
   "source": [
    "train_predict[0:5]"
   ]
  },
  {
   "cell_type": "code",
   "execution_count": 38,
   "metadata": {},
   "outputs": [
    {
     "data": {
      "text/plain": [
       "array([[154.80673],\n",
       "       [155.28987],\n",
       "       [156.1188 ],\n",
       "       [157.1755 ],\n",
       "       [157.34322]], dtype=float32)"
      ]
     },
     "execution_count": 38,
     "metadata": {},
     "output_type": "execute_result"
    }
   ],
   "source": [
    "test_predict[0:5]"
   ]
  },
  {
   "cell_type": "code",
   "execution_count": 39,
   "metadata": {},
   "outputs": [
    {
     "data": {
      "text/plain": [
       "142.9276991084225"
      ]
     },
     "execution_count": 39,
     "metadata": {},
     "output_type": "execute_result"
    }
   ],
   "source": [
    "# Calculate RMSE performance metrics\n",
    "import math\n",
    "from sklearn.metrics import mean_squared_error\n",
    "math.sqrt(mean_squared_error(y_train,train_predict))"
   ]
  },
  {
   "cell_type": "code",
   "execution_count": 40,
   "metadata": {},
   "outputs": [
    {
     "data": {
      "text/plain": [
       "240.27491073606555"
      ]
     },
     "execution_count": 40,
     "metadata": {},
     "output_type": "execute_result"
    }
   ],
   "source": [
    "# Test Data RMSE\n",
    "math.sqrt(mean_squared_error(y_test,test_predict))"
   ]
  },
  {
   "cell_type": "code",
   "execution_count": 41,
   "metadata": {},
   "outputs": [
    {
     "data": {
      "text/plain": [
       "((717, 1), (341, 1))"
      ]
     },
     "execution_count": 41,
     "metadata": {},
     "output_type": "execute_result"
    }
   ],
   "source": [
    "train_predict.shape, test_predict.shape"
   ]
  },
  {
   "cell_type": "code",
   "execution_count": 42,
   "metadata": {},
   "outputs": [
    {
     "data": {
      "text/plain": [
       "((817, 1), (441, 1))"
      ]
     },
     "execution_count": 42,
     "metadata": {},
     "output_type": "execute_result"
    }
   ],
   "source": [
    "train_data.shape, test_data.shape"
   ]
  },
  {
   "cell_type": "code",
   "execution_count": 43,
   "metadata": {},
   "outputs": [
    {
     "data": {
      "text/plain": [
       "(1258, 1)"
      ]
     },
     "execution_count": 43,
     "metadata": {},
     "output_type": "execute_result"
    }
   ],
   "source": [
    "X.shape"
   ]
  },
  {
   "cell_type": "code",
   "execution_count": 44,
   "metadata": {},
   "outputs": [
    {
     "data": {
      "text/plain": [
       "(716, 1)"
      ]
     },
     "execution_count": 44,
     "metadata": {},
     "output_type": "execute_result"
    }
   ],
   "source": [
    "X[101:817].shape"
   ]
  },
  {
   "cell_type": "code",
   "execution_count": 45,
   "metadata": {},
   "outputs": [
    {
     "data": {
      "image/png": "[encoded data removed]",
      "text/plain": [
       "<Figure size 432x288 with 1 Axes>"
      ]
     },
     "metadata": {
      "needs_background": "light"
     },
     "output_type": "display_data"
    }
   ],
   "source": [
    "# Plotting \n",
    "# shift train predictions for plotting\n",
    "look_back=100\n",
    "trainPredictPlot = np.empty_like(X)\n",
    "trainPredictPlot[:, :] = np.nan\n",
    "# indexing starts from 0\n",
    "# 0-99(100 values) so we will start filling values from 100 index till 816 index\n",
    "trainPredictPlot[100:817, :] = train_predict\n",
    "\n",
    "\n",
    "# shift test predictions for plotting\n",
    "testPredictPlot = np.empty_like(X)\n",
    "testPredictPlot[:, :] = np.nan\n",
    "testPredictPlot[817+100:1258, :] = test_predict\n",
    "\n",
    "\n",
    "# plot baseline and predictions\n",
    "plt.plot(scaler.inverse_transform(X))\n",
    "plt.plot(trainPredictPlot)\n",
    "plt.plot(testPredictPlot)\n",
    "plt.show()"
   ]
  },
  {
   "cell_type": "code",
   "execution_count": 46,
   "metadata": {},
   "outputs": [
    {
     "data": {
      "image/png": "[encoded data removed]",
      "text/plain": [
       "<Figure size 432x288 with 1 Axes>"
      ]
     },
     "metadata": {
      "needs_background": "light"
     },
     "output_type": "display_data"
    }
   ],
   "source": [
    "# plot baseline and predictions\n",
    "# these are combined predictions of train_data and test_data\n",
    "plt.plot(scaler.inverse_transform(X))\n",
    "plt.show()"
   ]
  },
  {
   "cell_type": "code",
   "execution_count": 47,
   "metadata": {},
   "outputs": [
    {
     "data": {
      "text/plain": [
       "[<matplotlib.lines.Line2D at 0x25d063cf1c0>]"
      ]
     },
     "execution_count": 47,
     "metadata": {},
     "output_type": "execute_result"
    },
    {
     "data": {
      "image/png": "[encoded data removed]",
      "text/plain": [
       "<Figure size 432x288 with 1 Axes>"
      ]
     },
     "metadata": {
      "needs_background": "light"
     },
     "output_type": "display_data"
    }
   ],
   "source": [
    "# predictions of training data\n",
    "plt.plot(scaler.inverse_transform(X))\n",
    "plt.plot(trainPredictPlot)"
   ]
  },
  {
   "cell_type": "code",
   "execution_count": 48,
   "metadata": {},
   "outputs": [
    {
     "data": {
      "image/png": "[encoded data removed]",
      "text/plain": [
       "<Figure size 432x288 with 1 Axes>"
      ]
     },
     "metadata": {
      "needs_background": "light"
     },
     "output_type": "display_data"
    }
   ],
   "source": [
    "# predictions of test data which our model did not see\n",
    "plt.plot(scaler.inverse_transform(X))\n",
    "plt.plot(testPredictPlot)\n",
    "plt.show()"
   ]
  },
  {
   "cell_type": "code",
   "execution_count": 49,
   "metadata": {},
   "outputs": [
    {
     "data": {
      "image/png": "[encoded data removed]",
      "text/plain": [
       "<Figure size 432x288 with 1 Axes>"
      ]
     },
     "metadata": {
      "needs_background": "light"
     },
     "output_type": "display_data"
    }
   ],
   "source": [
    "# predicting both training and testing data\n",
    "plt.plot(scaler.inverse_transform(X))\n",
    "plt.plot(trainPredictPlot)\n",
    "plt.plot(testPredictPlot)\n",
    "plt.show()"
   ]
  },
  {
   "cell_type": "code",
   "execution_count": 50,
   "metadata": {},
   "outputs": [
    {
     "data": {
      "text/plain": [
       "(441, 1)"
      ]
     },
     "execution_count": 50,
     "metadata": {},
     "output_type": "execute_result"
    }
   ],
   "source": [
    "test_data.shape"
   ]
  },
  {
   "cell_type": "code",
   "execution_count": 51,
   "metadata": {},
   "outputs": [
    {
     "data": {
      "text/plain": [
       "(1, 100)"
      ]
     },
     "execution_count": 51,
     "metadata": {},
     "output_type": "execute_result"
    }
   ],
   "source": [
    "# values exist till 440 not 441\n",
    "x_input = test_data[341:441].reshape(1,-1)\n",
    "x_input.shape"
   ]
  },
  {
   "cell_type": "code",
   "execution_count": 52,
   "metadata": {},
   "outputs": [
    {
     "data": {
      "text/plain": [
       "[0.8583551465000423,\n",
       " 0.8866418981676942,\n",
       " 0.8743139407244789,\n",
       " 0.8843198513890065,\n",
       " 0.8783669678290975]"
      ]
     },
     "execution_count": 52,
     "metadata": {},
     "output_type": "execute_result"
    }
   ],
   "source": [
    "temp_input = list(x_input[0])\n",
    "temp_input[0:5]"
   ]
  },
  {
   "cell_type": "code",
   "execution_count": 53,
   "metadata": {},
   "outputs": [],
   "source": [
    "# demonstrate prediction for next 30 days of test data\n",
    "x_input = test_data[341:441].reshape(1,-1)\n",
    "temp_input = list(x_input[0])\n",
    "lst_output = []\n",
    "n_steps = 100\n",
    "i = 0\n",
    "while (i<30): # starts from 0 ends at 29 so total 30 values\n",
    "    \n",
    "    if(len(temp_input)>100):\n",
    "        x_input = np.array(temp_input[i:])\n",
    "        # here 1st 1 is no, of samples\n",
    "        # next 2 are dimensions of input\n",
    "        x_input = x_input.reshape((1, 100, 1))\n",
    "        y_pred = model.predict(x_input)\n",
    "\n",
    "        temp_input.append(y_pred[0][0])\n",
    "        lst_output.append(y_pred[0][0])\n",
    "        \n",
    "    else:\n",
    "        # predicting one by one\n",
    "        x_input = x_input.reshape((1, 100, 1))\n",
    "        y_pred = model.predict(x_input)\n",
    "        # tolist() converts to list datatype\n",
    "        temp_input.append(y_pred[0][0])\n",
    "        lst_output.append(y_pred[0][0])\n",
    "    \n",
    "    i = i+1\n",
    "    \n",
    "lst_output = np.array(lst_output).reshape(-1, 1)\n"
   ]
  },
  {
   "cell_type": "code",
   "execution_count": 54,
   "metadata": {},
   "outputs": [
    {
     "data": {
      "text/plain": [
       "(30, 1)"
      ]
     },
     "execution_count": 54,
     "metadata": {},
     "output_type": "execute_result"
    }
   ],
   "source": [
    "lst_output.shape"
   ]
  },
  {
   "cell_type": "code",
   "execution_count": 55,
   "metadata": {},
   "outputs": [
    {
     "data": {
      "text/plain": [
       "(1258, 1)"
      ]
     },
     "execution_count": 55,
     "metadata": {},
     "output_type": "execute_result"
    }
   ],
   "source": [
    "X.shape"
   ]
  },
  {
   "cell_type": "code",
   "execution_count": 56,
   "metadata": {},
   "outputs": [],
   "source": [
    "day_new = np.arange(1,101)\n",
    "day_pred = np.arange(101,131)"
   ]
  },
  {
   "cell_type": "code",
   "execution_count": 57,
   "metadata": {},
   "outputs": [
    {
     "data": {
      "text/plain": [
       "[<matplotlib.lines.Line2D at 0x25d0678ce80>]"
      ]
     },
     "execution_count": 57,
     "metadata": {},
     "output_type": "execute_result"
    },
    {
     "data": {
      "image/png": "[encoded data removed]",
      "text/plain": [
       "<Figure size 432x288 with 1 Axes>"
      ]
     },
     "metadata": {
      "needs_background": "light"
     },
     "output_type": "display_data"
    }
   ],
   "source": [
    "plt.plot(day_new, scaler.inverse_transform(X[1158:]))\n",
    "plt.plot(day_pred, scaler.inverse_transform(lst_output))"
   ]
  }
 ],
 "metadata": {
  "kernelspec": {
   "display_name": "Python 3",
   "language": "python",
   "name": "python3"
  },
  "language_info": {
   "codemirror_mode": {
    "name": "ipython",
    "version": 3
   },
   "file_extension": ".py",
   "mimetype": "text/x-python",
   "name": "python",
   "nbconvert_exporter": "python",
   "pygments_lexer": "ipython3",
   "version": "3.8.0"
  }
 },
 "nbformat": 4,
 "nbformat_minor": 2
}
