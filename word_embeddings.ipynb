{
 "cells": [
  {
   "cell_type": "markdown",
   "metadata": {},
   "source": [
    "### Word Embedding Techniques using Embedding Layer in Keras"
   ]
  },
  {
   "cell_type": "code",
   "execution_count": 1,
   "metadata": {},
   "outputs": [],
   "source": [
    "sent=[    \n",
    "    'the glass of milk',\n",
    "     'the glass of juice',\n",
    "     'the cup of tea',\n",
    "     'I am a good boy',\n",
    "     'I am a good developer',\n",
    "     'understand the meaning of words',\n",
    "     'your videos are good'\n",
    "]"
   ]
  },
  {
   "cell_type": "code",
   "execution_count": 2,
   "metadata": {},
   "outputs": [
    {
     "data": {
      "text/plain": [
       "['the glass of milk',\n",
       " 'the glass of juice',\n",
       " 'the cup of tea',\n",
       " 'I am a good boy',\n",
       " 'I am a good developer',\n",
       " 'understand the meaning of words',\n",
       " 'your videos are good']"
      ]
     },
     "execution_count": 2,
     "metadata": {},
     "output_type": "execute_result"
    }
   ],
   "source": [
    "sent"
   ]
  },
  {
   "cell_type": "markdown",
   "metadata": {},
   "source": [
    "#### One Hot Representation"
   ]
  },
  {
   "cell_type": "code",
   "execution_count": 4,
   "metadata": {},
   "outputs": [
    {
     "data": {
      "text/plain": [
       "[[1757, 6881, 9899, 2768],\n",
       " [1757, 6881, 9899, 2095],\n",
       " [1757, 7094, 9899, 4414],\n",
       " [5206, 8528, 6160, 9192, 1243],\n",
       " [5206, 8528, 6160, 9192, 2095],\n",
       " [556, 1757, 3207, 9899, 8570],\n",
       " [7375, 7001, 4203, 9192]]"
      ]
     },
     "execution_count": 4,
     "metadata": {},
     "output_type": "execute_result"
    }
   ],
   "source": [
    "from tensorflow.keras.preprocessing.text import one_hot\n",
    "\n",
    "# Vocabulary size\n",
    "voc_size = 10000\n",
    "\n",
    "onehot_repr = [one_hot(words,voc_size) for words in sent] \n",
    "onehot_repr"
   ]
  },
  {
   "cell_type": "markdown",
   "metadata": {},
   "source": [
    "### Word Embedding Represntation"
   ]
  },
  {
   "cell_type": "code",
   "execution_count": 5,
   "metadata": {},
   "outputs": [],
   "source": [
    "from tensorflow.keras.layers import Embedding\n",
    "from tensorflow.keras.preprocessing.sequence import pad_sequences\n",
    "from tensorflow.keras.models import Sequential\n",
    "import numpy as np"
   ]
  },
  {
   "cell_type": "code",
   "execution_count": 6,
   "metadata": {},
   "outputs": [
    {
     "name": "stdout",
     "output_type": "stream",
     "text": [
      "[[   0    0    0    0 1757 6881 9899 2768]\n",
      " [   0    0    0    0 1757 6881 9899 2095]\n",
      " [   0    0    0    0 1757 7094 9899 4414]\n",
      " [   0    0    0 5206 8528 6160 9192 1243]\n",
      " [   0    0    0 5206 8528 6160 9192 2095]\n",
      " [   0    0    0  556 1757 3207 9899 8570]\n",
      " [   0    0    0    0 7375 7001 4203 9192]]\n"
     ]
    }
   ],
   "source": [
    "sent_length = 8\n",
    "embedded_docs = pad_sequences(onehot_repr, padding='pre', maxlen=sent_length)\n",
    "print(embedded_docs)"
   ]
  },
  {
   "cell_type": "code",
   "execution_count": 7,
   "metadata": {},
   "outputs": [
    {
     "name": "stdout",
     "output_type": "stream",
     "text": [
      "Model: \"sequential\"\n",
      "_________________________________________________________________\n",
      "Layer (type)                 Output Shape              Param #   \n",
      "=================================================================\n",
      "embedding (Embedding)        (None, 8, 10)             100000    \n",
      "=================================================================\n",
      "Total params: 100,000\n",
      "Trainable params: 100,000\n",
      "Non-trainable params: 0\n",
      "_________________________________________________________________\n"
     ]
    }
   ],
   "source": [
    "# 10 is neurons\n",
    "# 8 is input length\n",
    "model=Sequential()\n",
    "model.add(Embedding(voc_size, 10, input_length=8))\n",
    "model.summary()"
   ]
  },
  {
   "cell_type": "code",
   "execution_count": 8,
   "metadata": {},
   "outputs": [],
   "source": [
    "model.compile('adam','mse')"
   ]
  },
  {
   "cell_type": "code",
   "execution_count": 9,
   "metadata": {},
   "outputs": [],
   "source": [
    "# the input shape contains 7 sentences each of length 8\n",
    "# so input shape is (None(7), 8)\n",
    "# 8 is the input to neural network\n",
    "# it contain 10 neurons\n",
    "# the output shape is (8,10) for 1 sentence out of 7\n",
    "# the total output shape is after predict function is (7, 8, 10)"
   ]
  },
  {
   "cell_type": "code",
   "execution_count": 10,
   "metadata": {},
   "outputs": [
    {
     "data": {
      "text/plain": [
       "(7, 8, 10)"
      ]
     },
     "execution_count": 10,
     "metadata": {},
     "output_type": "execute_result"
    }
   ],
   "source": [
    "# input shape is (7,8)\n",
    "model.predict(embedded_docs).shape"
   ]
  },
  {
   "cell_type": "code",
   "execution_count": 11,
   "metadata": {},
   "outputs": [
    {
     "data": {
      "text/plain": [
       "(8, 10)"
      ]
     },
     "execution_count": 11,
     "metadata": {},
     "output_type": "execute_result"
    }
   ],
   "source": [
    "model.predict(embedded_docs)[0].shape"
   ]
  },
  {
   "cell_type": "code",
   "execution_count": 12,
   "metadata": {},
   "outputs": [
    {
     "data": {
      "text/plain": [
       "array([[-0.02398672,  0.01787261,  0.04806561, -0.04361165, -0.00146826,\n",
       "         0.02688828, -0.0486858 , -0.03266837,  0.01969441, -0.01591427],\n",
       "       [-0.02398672,  0.01787261,  0.04806561, -0.04361165, -0.00146826,\n",
       "         0.02688828, -0.0486858 , -0.03266837,  0.01969441, -0.01591427],\n",
       "       [-0.02398672,  0.01787261,  0.04806561, -0.04361165, -0.00146826,\n",
       "         0.02688828, -0.0486858 , -0.03266837,  0.01969441, -0.01591427],\n",
       "       [-0.02398672,  0.01787261,  0.04806561, -0.04361165, -0.00146826,\n",
       "         0.02688828, -0.0486858 , -0.03266837,  0.01969441, -0.01591427],\n",
       "       [ 0.04674527, -0.04149848, -0.03498161, -0.01530217,  0.04261709,\n",
       "         0.04094441,  0.04810598,  0.0027267 , -0.01100823, -0.00056242],\n",
       "       [ 0.02613277, -0.04542097,  0.01615799, -0.02571359, -0.02070092,\n",
       "         0.0152014 ,  0.03596845, -0.01894203, -0.02260681, -0.00656467],\n",
       "       [-0.01264803, -0.00324515,  0.00425852, -0.04004061,  0.00293031,\n",
       "         0.02006391, -0.03831049,  0.04479006, -0.02682886,  0.02844565],\n",
       "       [-0.03765751, -0.03156458,  0.03398979,  0.04318274,  0.03118949,\n",
       "         0.02434592, -0.00388967, -0.00210373,  0.03018143, -0.02812721]],\n",
       "      dtype=float32)"
      ]
     },
     "execution_count": 12,
     "metadata": {},
     "output_type": "execute_result"
    }
   ],
   "source": [
    "# visualizing the first output of predict function\n",
    "model.predict(embedded_docs)[0]"
   ]
  },
  {
   "cell_type": "code",
   "execution_count": 13,
   "metadata": {},
   "outputs": [],
   "source": [
    "# the input is [   0    0    0    0 5704 8172 2978 1201] \n",
    "# each element in the input is converted into 10 elements\n",
    "# total elements in the input is 8\n",
    "# so the shape is (8, 10)\n",
    "# in the above predicted doc first 4 arrays are same because these 4 arrays corresponds to 4 0's in the above input\n",
    "# the above values we got after predict function all are trainable values"
   ]
  }
 ],
 "metadata": {
  "kernelspec": {
   "display_name": "Python 3",
   "language": "python",
   "name": "python3"
  },
  "language_info": {
   "codemirror_mode": {
    "name": "ipython",
    "version": 3
   },
   "file_extension": ".py",
   "mimetype": "text/x-python",
   "name": "python",
   "nbconvert_exporter": "python",
   "pygments_lexer": "ipython3",
   "version": "3.8.0"
  }
 },
 "nbformat": 4,
 "nbformat_minor": 2
}
